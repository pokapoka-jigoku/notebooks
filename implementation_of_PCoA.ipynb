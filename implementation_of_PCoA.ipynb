{
 "cells": [
  {
   "cell_type": "markdown",
   "metadata": {},
   "source": [
    "# PCoAの実装"
   ]
  },
  {
   "cell_type": "markdown",
   "metadata": {},
   "source": [
    "```\n",
    "class sklearn.decomposition.KernelPCA\n",
    "(n_components=None, *, kernel='linear',\n",
    " gamma=None, degree=3, coef0=1, kernel_params=None, alpha=1.0,\n",
    " fit_inverse_transform=False, eigen_solver='auto', tol=0, max_iter=None, remove_zero_eig=False, random_state=None, copy_X=True, n_jobs=None)\n",
    "```\n",
    "\n",
    "```\n",
    "class sklearn.manifold.MDS(n_components=2, *, metric=True, n_init=4, max_iter=300, verbose=0, eps=0.001, n_jobs=None, random_state=None, dissimilarity='euclidean')\n",
    "```"
   ]
  },
  {
   "cell_type": "code",
   "execution_count": 1,
   "metadata": {},
   "outputs": [],
   "source": [
    "from sklearn.decomposition import KernelPCA\n",
    "import numpy as np\n",
    "import itertools\n",
    "import sklearn\n",
    "from sklearn.metrics import pairwise_distances\n",
    "import warnings\n",
    "\n",
    "class TrainedData:\n",
    "    def __init__(self, X=None):\n",
    "        self.data_ = None\n",
    "        self.columns_ = None\n",
    "        self.index_ = None\n",
    "        if X is not None:\n",
    "            self.register(X)\n",
    "    \n",
    "    def register(self, X):\n",
    "        if isinstance(X, pd.DataFrame):\n",
    "            if self.columns_ is not None and list(self.columns_) != list(X.columns):\n",
    "                warnings.warn('Registered the data with different columns. Columns has renewed.', warnings.UserWarning)\n",
    "            self.columns_ = X.columns\n",
    "            X = X.to_numpy()\n",
    "        if self.data_ is None:\n",
    "            self.data_ = X\n",
    "        else:\n",
    "            self.data_ = np.vstack([self.data_, X])\n",
    "        return self.data_\n",
    "    \n",
    "    @property\n",
    "    def n_samples_(self):\n",
    "        return self.data_.shape[0]\n",
    "    \n",
    "    @property\n",
    "    def n_features_(self):\n",
    "        return self.data_.shape[1]\n",
    "    \n",
    "    @property\n",
    "    def data(self):\n",
    "        return self.data_\n",
    "    \n",
    "    def __call__(self):\n",
    "        return self.data\n",
    "    \n",
    "    def to_pandas(self):\n",
    "        return pd.DataFrame(self.data, columns=self.columns_)\n",
    "        \n",
    "\n",
    "class PCoA():\n",
    "    \"\"\"\n",
    "    # Args\n",
    "    Based on ``sklearn.decomposition.KernelPCA`` and ``sklearn.manifold.MDS``.\n",
    "    - n_comopnents\n",
    "    - dissimilarity\n",
    "    - dissimilarity_params\n",
    "    - eigen_solver\n",
    "    - tol\n",
    "    - max_iter\n",
    "    - remove_zero_eig\n",
    "    - random_state\n",
    "    - copy_X\n",
    "    - n_jobs\n",
    "    \n",
    "    # How-to-use\n",
    "    initialize and then just fit_transform. that's all.\n",
    "    \n",
    "    # Returns\n",
    "    Based on ``sklearn.decomposition.KernelPCA`` and ``sklearn.manifold.MDS``.\n",
    "    - n_samples_\n",
    "    - n_features_\n",
    "    - explained_variance_\n",
    "    - explained_variance_ratio_\n",
    "    - X_fit_\n",
    "    - lambdas_\n",
    "    - alphas_\n",
    "    \n",
    "    \"\"\"\n",
    "    def __init__(self, n_components=None, *, dissimilarity='euclidean', dissimilarity_params=None, \n",
    "                 eigen_solver='auto', tol=0, max_iter=None, remove_zero_eig=False, random_state=None, copy_X=True, n_jobs=None):\n",
    "        self.n_components_ = n_components\n",
    "        self.random_state = random_state\n",
    "        self.n_jobs = n_jobs\n",
    "        self.kernelpca_ = KernelPCA(n_components, eigen_solver=eigen_solver, tol=tol, max_iter=max_iter, kernel='precomputed',\n",
    "                                    remove_zero_eig=remove_zero_eig, random_state=random_state, copy_X=copy_X, n_jobs=n_jobs)\n",
    "\n",
    "        self.dissimilarity = dissimilarity\n",
    "        self.dissimilarity_params = dissimilarity_params\n",
    "        self.set_metric(dissimilarity, dissimilarity_params)\n",
    "        \n",
    "        self.trained_data = TrainedData()\n",
    "    \n",
    "    @staticmethod\n",
    "    def metric_matrix(X, distance_function):\n",
    "        d = distance_function\n",
    "        return d(X, X)\n",
    "    \n",
    "    @staticmethod\n",
    "    def pairwise_metric_from(one_on_one_distance):\n",
    "        def result_func(X, Y, **args):\n",
    "            assert(X.shape == Y.shape)\n",
    "            D = np.zeros((X.shape[0], Y.shape[0]))\n",
    "            for i in range(X.shape[0]):\n",
    "                for j in range(Y.shape[0]):\n",
    "                    D[i, j] = one_on_one_distance(X[i], Y[j])\n",
    "            return D\n",
    "        \n",
    "        return result_func\n",
    "\n",
    "\n",
    "    def set_metric(self, dissimilarity, dissimilarity_params):\n",
    "        if isinstance(dissimilarity, str):\n",
    "            self.metric_ = (lambda X, Y: sklearn.metrics.pairwise_distances(X, Y, metric=dissimilarity))\n",
    "        else:\n",
    "            if dissimilarity_params is not None:\n",
    "                self.metric_ = (lambda X, Y: dissimilarity(X, Y, **dissimilarity_params))\n",
    "            else:\n",
    "                self.metric_ = (lambda X, Y: dissimilarity(X, Y))\n",
    "        return self.metric_\n",
    "\n",
    "    def fit_transform(self, X, y=None, **params):\n",
    "        self.trained_data.register(X)\n",
    "        D = PCoA.metric_matrix(self.X_fit_, self.metric_)\n",
    "        H = PCoA.centerized(self.n_samples_)\n",
    "        assert(D.shape == H.shape)\n",
    "        K_tilde = -1/2 * (H @ (D**2) @ H)\n",
    "        self.eigenvalues_ = np.sort(np.linalg.eigh(K_tilde)[0])[::-1]\n",
    "        self.eigenvalues_[np.isclose(self.eigenvalues_, 0)] = 0\n",
    "        assert(K_tilde.shape == D.shape)\n",
    "        return self.kernelpca_.fit_transform(K_tilde)\n",
    "        \n",
    "    @property\n",
    "    def n_samples_(self):\n",
    "        return self.trained_data.n_samples_\n",
    "    \n",
    "    @property\n",
    "    def n_features_(self):\n",
    "        return self.trained_data.n_features_\n",
    "\n",
    "    @property\n",
    "    def explained_variance_ratio_(self, acc=False):\n",
    "        variances = self.explained_variance_\n",
    "        tot = np.sum(variances)\n",
    "        ratios = variances / tot\n",
    "        if acc:\n",
    "            return np.array(list(itertools.accumulate(ratios)))\n",
    "        else:\n",
    "            return ratios\n",
    "    \n",
    "    @property\n",
    "    def explained_variance_(self):\n",
    "        return self.lambdas_\n",
    "    \n",
    "    @property\n",
    "    def X_fit_(self):\n",
    "        return self.trained_data()\n",
    "    \n",
    "    @property\n",
    "    def lambdas_(self):\n",
    "        return self.kernelpca_.lambdas_\n",
    "    \n",
    "    @property\n",
    "    def alphas_(self):\n",
    "        return self.kernelpca_.alphas_\n",
    "    \n",
    "    @staticmethod\n",
    "    def centerized(n_dim):\n",
    "        return np.identity(n_dim) - 1/n_dim * np.ones((n_dim, n_dim))\n",
    "    "
   ]
  },
  {
   "cell_type": "markdown",
   "metadata": {},
   "source": [
    "## Usecase 1: Iris data by euclidean"
   ]
  },
  {
   "cell_type": "code",
   "execution_count": 2,
   "metadata": {},
   "outputs": [],
   "source": [
    "from sklearn.datasets import load_iris\n",
    "iris = load_iris()"
   ]
  },
  {
   "cell_type": "code",
   "execution_count": 3,
   "metadata": {},
   "outputs": [],
   "source": [
    "import numpy as np\n",
    "import matplotlib.pyplot as plt\n",
    "import pandas as pd"
   ]
  },
  {
   "cell_type": "code",
   "execution_count": 4,
   "metadata": {},
   "outputs": [],
   "source": [
    "df = pd.DataFrame(iris.data, columns=iris.feature_names)"
   ]
  },
  {
   "cell_type": "code",
   "execution_count": 5,
   "metadata": {},
   "outputs": [],
   "source": [
    "df['target'] = iris.target"
   ]
  },
  {
   "cell_type": "code",
   "execution_count": 6,
   "metadata": {},
   "outputs": [],
   "source": [
    "df['hue'] = iris.target_names[df['target']]"
   ]
  },
  {
   "cell_type": "code",
   "execution_count": 7,
   "metadata": {},
   "outputs": [
    {
     "data": {
      "text/html": [
       "<div>\n",
       "<style scoped>\n",
       "    .dataframe tbody tr th:only-of-type {\n",
       "        vertical-align: middle;\n",
       "    }\n",
       "\n",
       "    .dataframe tbody tr th {\n",
       "        vertical-align: top;\n",
       "    }\n",
       "\n",
       "    .dataframe thead th {\n",
       "        text-align: right;\n",
       "    }\n",
       "</style>\n",
       "<table border=\"1\" class=\"dataframe\">\n",
       "  <thead>\n",
       "    <tr style=\"text-align: right;\">\n",
       "      <th></th>\n",
       "      <th>sepal length (cm)</th>\n",
       "      <th>sepal width (cm)</th>\n",
       "      <th>petal length (cm)</th>\n",
       "      <th>petal width (cm)</th>\n",
       "      <th>target</th>\n",
       "      <th>hue</th>\n",
       "    </tr>\n",
       "  </thead>\n",
       "  <tbody>\n",
       "    <tr>\n",
       "      <th>0</th>\n",
       "      <td>5.1</td>\n",
       "      <td>3.5</td>\n",
       "      <td>1.4</td>\n",
       "      <td>0.2</td>\n",
       "      <td>0</td>\n",
       "      <td>setosa</td>\n",
       "    </tr>\n",
       "    <tr>\n",
       "      <th>1</th>\n",
       "      <td>4.9</td>\n",
       "      <td>3.0</td>\n",
       "      <td>1.4</td>\n",
       "      <td>0.2</td>\n",
       "      <td>0</td>\n",
       "      <td>setosa</td>\n",
       "    </tr>\n",
       "    <tr>\n",
       "      <th>2</th>\n",
       "      <td>4.7</td>\n",
       "      <td>3.2</td>\n",
       "      <td>1.3</td>\n",
       "      <td>0.2</td>\n",
       "      <td>0</td>\n",
       "      <td>setosa</td>\n",
       "    </tr>\n",
       "  </tbody>\n",
       "</table>\n",
       "</div>"
      ],
      "text/plain": [
       "   sepal length (cm)  sepal width (cm)  petal length (cm)  petal width (cm)  \\\n",
       "0                5.1               3.5                1.4               0.2   \n",
       "1                4.9               3.0                1.4               0.2   \n",
       "2                4.7               3.2                1.3               0.2   \n",
       "\n",
       "   target     hue  \n",
       "0       0  setosa  \n",
       "1       0  setosa  \n",
       "2       0  setosa  "
      ]
     },
     "execution_count": 7,
     "metadata": {},
     "output_type": "execute_result"
    }
   ],
   "source": [
    "df.head(3)"
   ]
  },
  {
   "cell_type": "code",
   "execution_count": 8,
   "metadata": {},
   "outputs": [
    {
     "data": {
      "text/html": [
       "<div>\n",
       "<style scoped>\n",
       "    .dataframe tbody tr th:only-of-type {\n",
       "        vertical-align: middle;\n",
       "    }\n",
       "\n",
       "    .dataframe tbody tr th {\n",
       "        vertical-align: top;\n",
       "    }\n",
       "\n",
       "    .dataframe thead th {\n",
       "        text-align: right;\n",
       "    }\n",
       "</style>\n",
       "<table border=\"1\" class=\"dataframe\">\n",
       "  <thead>\n",
       "    <tr style=\"text-align: right;\">\n",
       "      <th></th>\n",
       "      <th>sepal length (cm)</th>\n",
       "      <th>sepal width (cm)</th>\n",
       "      <th>petal length (cm)</th>\n",
       "    </tr>\n",
       "  </thead>\n",
       "  <tbody>\n",
       "    <tr>\n",
       "      <th>0</th>\n",
       "      <td>5.1</td>\n",
       "      <td>3.5</td>\n",
       "      <td>1.4</td>\n",
       "    </tr>\n",
       "    <tr>\n",
       "      <th>1</th>\n",
       "      <td>4.9</td>\n",
       "      <td>3.0</td>\n",
       "      <td>1.4</td>\n",
       "    </tr>\n",
       "    <tr>\n",
       "      <th>2</th>\n",
       "      <td>4.7</td>\n",
       "      <td>3.2</td>\n",
       "      <td>1.3</td>\n",
       "    </tr>\n",
       "  </tbody>\n",
       "</table>\n",
       "</div>"
      ],
      "text/plain": [
       "   sepal length (cm)  sepal width (cm)  petal length (cm)\n",
       "0                5.1               3.5                1.4\n",
       "1                4.9               3.0                1.4\n",
       "2                4.7               3.2                1.3"
      ]
     },
     "execution_count": 8,
     "metadata": {},
     "output_type": "execute_result"
    }
   ],
   "source": [
    "X = df.iloc[:, :3]\n",
    "X.head(3)"
   ]
  },
  {
   "cell_type": "code",
   "execution_count": 9,
   "metadata": {},
   "outputs": [
    {
     "name": "stdout",
     "output_type": "stream",
     "text": [
      "[549.97684855  35.96521365   8.85860447] [0.92464061 0.06046599 0.0148934 ] 3 3 150\n"
     ]
    }
   ],
   "source": [
    "model = PCoA(n_components=3, dissimilarity='euclidean', random_state=42, \n",
    "             n_jobs=None, eigen_solver='auto', tol=0, max_iter=None, remove_zero_eig=False, copy_X=True)\n",
    "features = model.fit_transform(X)\n",
    "\n",
    "print(model.explained_variance_, \n",
    "      model.explained_variance_ratio_, \n",
    "      model.n_components_, \n",
    "      model.n_features_, \n",
    "      model.n_samples_)\n"
   ]
  },
  {
   "cell_type": "code",
   "execution_count": 10,
   "metadata": {},
   "outputs": [
    {
     "data": {
      "text/plain": [
       "<AxesSubplot:xlabel='p0', ylabel='p1'>"
      ]
     },
     "execution_count": 10,
     "metadata": {},
     "output_type": "execute_result"
    },
    {
     "data": {
      "image/png": "[encoded data removed]",
      "text/plain": [
       "<Figure size 432x288 with 1 Axes>"
      ]
     },
     "metadata": {},
     "output_type": "display_data"
    }
   ],
   "source": [
    "import seaborn as sns\n",
    "plotted = pd.DataFrame(features, columns=['p'+str(i) for i in range(model.n_features_)])\n",
    "plotted['hue'] = df['hue']\n",
    "sns.set(style='dark', palette='bright')\n",
    "sns.scatterplot(data=plotted, x='p0', y='p1', hue='hue')"
   ]
  },
  {
   "cell_type": "code",
   "execution_count": 11,
   "metadata": {},
   "outputs": [],
   "source": [
    "pos_var = model.eigenvalues_[model.eigenvalues_ > 0]\n",
    "neg_var = model.eigenvalues_[model.eigenvalues_ < 0]"
   ]
  },
  {
   "cell_type": "code",
   "execution_count": 12,
   "metadata": {},
   "outputs": [
    {
     "data": {
      "text/plain": [
       "array([0.92464061, 0.06046599, 0.0148934 ])"
      ]
     },
     "execution_count": 12,
     "metadata": {},
     "output_type": "execute_result"
    }
   ],
   "source": [
    "p = pos_var / np.sum(pos_var)\n",
    "p"
   ]
  },
  {
   "cell_type": "code",
   "execution_count": 13,
   "metadata": {},
   "outputs": [
    {
     "data": {
      "text/plain": [
       "[<matplotlib.lines.Line2D at 0x1cf81dbe820>]"
      ]
     },
     "execution_count": 13,
     "metadata": {},
     "output_type": "execute_result"
    },
    {
     "data": {
      "image/png": "[encoded data removed]",
      "text/plain": [
       "<Figure size 432x288 with 1 Axes>"
      ]
     },
     "metadata": {},
     "output_type": "display_data"
    }
   ],
   "source": [
    "plt.plot(p, marker='o')"
   ]
  },
  {
   "cell_type": "code",
   "execution_count": 14,
   "metadata": {},
   "outputs": [
    {
     "data": {
      "text/plain": [
       "array([], dtype=float64)"
      ]
     },
     "execution_count": 14,
     "metadata": {},
     "output_type": "execute_result"
    }
   ],
   "source": [
    "n = neg_var / np.sum(neg_var)\n",
    "n"
   ]
  },
  {
   "cell_type": "code",
   "execution_count": 15,
   "metadata": {},
   "outputs": [
    {
     "data": {
      "text/plain": [
       "[<matplotlib.lines.Line2D at 0x1cf81e10e20>]"
      ]
     },
     "execution_count": 15,
     "metadata": {},
     "output_type": "execute_result"
    },
    {
     "data": {
      "image/png": "[encoded data removed]",
      "text/plain": [
       "<Figure size 432x288 with 1 Axes>"
      ]
     },
     "metadata": {},
     "output_type": "display_data"
    }
   ],
   "source": [
    "plt.plot(n, marker='o')"
   ]
  },
  {
   "cell_type": "code",
   "execution_count": 16,
   "metadata": {},
   "outputs": [
    {
     "data": {
      "text/plain": [
       "[<matplotlib.lines.Line2D at 0x1cf81e6b0d0>]"
      ]
     },
     "execution_count": 16,
     "metadata": {},
     "output_type": "execute_result"
    },
    {
     "data": {
      "image/png": "[encoded data removed]",
      "text/plain": [
       "<Figure size 432x288 with 1 Axes>"
      ]
     },
     "metadata": {},
     "output_type": "display_data"
    }
   ],
   "source": [
    "plt.plot(model.eigenvalues_[model.eigenvalues_ !=0], marker='o')"
   ]
  },
  {
   "cell_type": "code",
   "execution_count": null,
   "metadata": {},
   "outputs": [],
   "source": []
  },
  {
   "cell_type": "markdown",
   "metadata": {},
   "source": [
    "# Usecase 1-2: Iris data by manhattan. "
   ]
  },
  {
   "cell_type": "code",
   "execution_count": 17,
   "metadata": {},
   "outputs": [
    {
     "name": "stdout",
     "output_type": "stream",
     "text": [
      "[1085.50977993  131.78625779   38.60953353] [0.86432436 0.10493325 0.03074239] 3 3 150\n"
     ]
    }
   ],
   "source": [
    "model = PCoA(n_components=3, dissimilarity='manhattan', random_state=42, \n",
    "             n_jobs=None, eigen_solver='auto', tol=0, max_iter=None, remove_zero_eig=False, copy_X=True)\n",
    "features = model.fit_transform(X)\n",
    "\n",
    "print(model.explained_variance_, \n",
    "      model.explained_variance_ratio_, \n",
    "      model.n_components_, \n",
    "      model.n_features_, \n",
    "      model.n_samples_)\n"
   ]
  },
  {
   "cell_type": "code",
   "execution_count": 18,
   "metadata": {},
   "outputs": [
    {
     "data": {
      "text/plain": [
       "<AxesSubplot:xlabel='p0', ylabel='p1'>"
      ]
     },
     "execution_count": 18,
     "metadata": {},
     "output_type": "execute_result"
    },
    {
     "data": {
      "image/png": "[encoded data removed]",
      "text/plain": [
       "<Figure size 432x288 with 1 Axes>"
      ]
     },
     "metadata": {},
     "output_type": "display_data"
    }
   ],
   "source": [
    "import seaborn as sns\n",
    "plotted = pd.DataFrame(features, columns=['p'+str(i) for i in range(model.n_features_)])\n",
    "plotted['hue'] = df['hue']\n",
    "sns.set(style='dark', palette='bright')\n",
    "sns.scatterplot(data=plotted, x='p0', y='p1', hue='hue')"
   ]
  },
  {
   "cell_type": "code",
   "execution_count": 19,
   "metadata": {},
   "outputs": [],
   "source": [
    "pos_var = model.eigenvalues_[model.eigenvalues_ > 0]\n",
    "neg_var = model.eigenvalues_[model.eigenvalues_ < 0]"
   ]
  },
  {
   "cell_type": "code",
   "execution_count": 20,
   "metadata": {},
   "outputs": [
    {
     "data": {
      "text/plain": [
       "array([7.91678280e-01, 9.61136600e-02, 2.81585018e-02, 1.51613941e-02,\n",
       "       1.17543143e-02, 1.00976439e-02, 6.30752073e-03, 5.12222718e-03,\n",
       "       4.73344419e-03, 3.90634929e-03, 3.67139089e-03, 2.66823292e-03,\n",
       "       2.28750853e-03, 1.97188803e-03, 1.81787866e-03, 1.57729470e-03,\n",
       "       1.34997120e-03, 1.33583767e-03, 1.14395404e-03, 9.85534009e-04,\n",
       "       8.79066218e-04, 8.54894937e-04, 8.24631087e-04, 7.78041679e-04,\n",
       "       6.03759107e-04, 4.54374183e-04, 4.27235220e-04, 3.99585135e-04,\n",
       "       3.61929931e-04, 3.23125813e-04, 2.68502874e-04, 2.44670119e-04,\n",
       "       2.38182486e-04, 2.27451150e-04, 1.89518021e-04, 1.44765611e-04,\n",
       "       1.40288685e-04, 1.29646881e-04, 1.15552325e-04, 1.11456311e-04,\n",
       "       9.03537758e-05, 7.03454572e-05, 6.26685178e-05, 5.87868898e-05,\n",
       "       4.72080946e-05, 3.31692606e-05, 2.21704513e-05, 1.73637430e-05,\n",
       "       1.64380100e-05, 1.10561904e-05, 7.27133719e-06, 3.66391526e-06])"
      ]
     },
     "execution_count": 20,
     "metadata": {},
     "output_type": "execute_result"
    }
   ],
   "source": [
    "p = pos_var / np.sum(pos_var)\n",
    "p"
   ]
  },
  {
   "cell_type": "code",
   "execution_count": 21,
   "metadata": {},
   "outputs": [
    {
     "data": {
      "text/plain": [
       "[<matplotlib.lines.Line2D at 0x1cf81f19730>]"
      ]
     },
     "execution_count": 21,
     "metadata": {},
     "output_type": "execute_result"
    },
    {
     "data": {
      "image/png": "[encoded data removed]",
      "text/plain": [
       "<Figure size 432x288 with 1 Axes>"
      ]
     },
     "metadata": {},
     "output_type": "display_data"
    }
   ],
   "source": [
    "plt.plot(p, marker='o')"
   ]
  },
  {
   "cell_type": "code",
   "execution_count": 22,
   "metadata": {},
   "outputs": [
    {
     "data": {
      "text/plain": [
       "array([1.39235019e-05, 5.84777003e-05, 7.16779549e-05, 8.95798079e-05,\n",
       "       1.07445625e-04, 1.25498520e-04, 1.49789753e-04, 1.69726974e-04,\n",
       "       1.84049102e-04, 2.44450939e-04, 2.77098840e-04, 2.99414107e-04,\n",
       "       3.17081376e-04, 3.32712768e-04, 3.55482818e-04, 3.71251568e-04,\n",
       "       4.35819585e-04, 4.46211555e-04, 4.94162570e-04, 5.34844108e-04,\n",
       "       5.58556781e-04, 5.89016936e-04, 6.11348254e-04, 6.44544108e-04,\n",
       "       6.64869331e-04, 6.67886471e-04, 6.94366862e-04, 7.67548636e-04,\n",
       "       7.92340387e-04, 8.42738808e-04, 8.97873272e-04, 9.38458800e-04,\n",
       "       1.02003390e-03, 1.03366430e-03, 1.06569437e-03, 1.11566479e-03,\n",
       "       1.14682163e-03, 1.17783132e-03, 1.26629909e-03, 1.38021871e-03,\n",
       "       1.40483733e-03, 1.47271521e-03, 1.48488064e-03, 1.57699527e-03,\n",
       "       1.66496778e-03, 1.79385466e-03, 1.80361158e-03, 1.86644290e-03,\n",
       "       1.91469816e-03, 2.04061105e-03, 2.14307995e-03, 2.37552504e-03,\n",
       "       2.52329674e-03, 2.64472113e-03, 2.77400850e-03, 2.83384085e-03,\n",
       "       3.07477931e-03, 3.13759930e-03, 3.31624476e-03, 3.53682009e-03,\n",
       "       3.83050565e-03, 4.04769929e-03, 4.18347905e-03, 4.51200158e-03,\n",
       "       4.89299412e-03, 5.00416712e-03, 5.03496505e-03, 5.85173409e-03,\n",
       "       5.92725834e-03, 6.49520907e-03, 7.13462904e-03, 7.93940068e-03,\n",
       "       8.56485094e-03, 8.88040224e-03, 9.16815453e-03, 1.04592186e-02,\n",
       "       1.20697305e-02, 1.35653929e-02, 1.39533506e-02, 1.54042427e-02,\n",
       "       1.59862717e-02, 2.01716444e-02, 2.39781691e-02, 2.75484812e-02,\n",
       "       3.34349804e-02, 3.43826040e-02, 4.95464781e-02, 6.86410539e-02,\n",
       "       8.65472043e-02, 1.47969131e-01, 2.66536590e-01])"
      ]
     },
     "execution_count": 22,
     "metadata": {},
     "output_type": "execute_result"
    }
   ],
   "source": [
    "n = neg_var / np.sum(neg_var)\n",
    "n"
   ]
  },
  {
   "cell_type": "code",
   "execution_count": 23,
   "metadata": {},
   "outputs": [
    {
     "data": {
      "text/plain": [
       "[<matplotlib.lines.Line2D at 0x1cf81f6baf0>]"
      ]
     },
     "execution_count": 23,
     "metadata": {},
     "output_type": "execute_result"
    },
    {
     "data": {
      "image/png": "[encoded data removed]",
      "text/plain": [
       "<Figure size 432x288 with 1 Axes>"
      ]
     },
     "metadata": {},
     "output_type": "display_data"
    }
   ],
   "source": [
    "plt.plot(n, marker='o')"
   ]
  },
  {
   "cell_type": "code",
   "execution_count": 24,
   "metadata": {},
   "outputs": [
    {
     "data": {
      "text/plain": [
       "[<matplotlib.lines.Line2D at 0x1cf81fcbeb0>]"
      ]
     },
     "execution_count": 24,
     "metadata": {},
     "output_type": "execute_result"
    },
    {
     "data": {
      "image/png": "[encoded data removed]",
      "text/plain": [
       "<Figure size 432x288 with 1 Axes>"
      ]
     },
     "metadata": {},
     "output_type": "display_data"
    }
   ],
   "source": [
    "plt.plot(model.eigenvalues_[model.eigenvalues_ !=0], marker='o')"
   ]
  },
  {
   "cell_type": "markdown",
   "metadata": {},
   "source": [
    "## Usecase 2: 2D-Circle by radial distance."
   ]
  },
  {
   "cell_type": "code",
   "execution_count": 25,
   "metadata": {},
   "outputs": [],
   "source": [
    "T = np.linspace(0, np.pi, 21)\n",
    "X = np.array([np.cos(T), np.sin(T)])"
   ]
  },
  {
   "cell_type": "code",
   "execution_count": 26,
   "metadata": {},
   "outputs": [],
   "source": [
    "X = X.T"
   ]
  },
  {
   "cell_type": "code",
   "execution_count": 27,
   "metadata": {},
   "outputs": [
    {
     "data": {
      "text/plain": [
       "<matplotlib.collections.PathCollection at 0x1cf8201ba00>"
      ]
     },
     "execution_count": 27,
     "metadata": {},
     "output_type": "execute_result"
    },
    {
     "data": {
      "image/png": "[encoded data removed]",
      "text/plain": [
       "<Figure size 432x288 with 1 Axes>"
      ]
     },
     "metadata": {},
     "output_type": "display_data"
    }
   ],
   "source": [
    "plt.scatter(*X.T)"
   ]
  },
  {
   "cell_type": "code",
   "execution_count": 28,
   "metadata": {},
   "outputs": [],
   "source": [
    "def distance(x, y):\n",
    "    def theta(x):    \n",
    "        (x_cos, x_sin) = (np.arccos(x[0]), np.arcsin(x[1]))\n",
    "        if x_sin >= 0:\n",
    "            t = x_cos\n",
    "        else:\n",
    "            t = 2*np.pi - x_cos\n",
    "        return t\n",
    "    \n",
    "    theta1 = theta(x)\n",
    "    theta2 = theta(y)\n",
    "    result = max([theta1, theta2]) - min([theta1, theta2])\n",
    "    if result > np.pi:\n",
    "        result = np.pi * 2 - result\n",
    "    return result"
   ]
  },
  {
   "cell_type": "code",
   "execution_count": 29,
   "metadata": {},
   "outputs": [],
   "source": [
    "dissimilarity = PCoA.pairwise_metric_from(distance)"
   ]
  },
  {
   "cell_type": "code",
   "execution_count": 30,
   "metadata": {},
   "outputs": [
    {
     "data": {
      "text/plain": [
       "array([[  0.,   9.,  18.,  27.,  36.,  45.,  54.,  63.,  72.,  81.,  90.,\n",
       "         99., 108., 117., 126., 135., 144., 153., 162., 171., 180.],\n",
       "       [  9.,   0.,   9.,  18.,  27.,  36.,  45.,  54.,  63.,  72.,  81.,\n",
       "         90.,  99., 108., 117., 126., 135., 144., 153., 162., 171.],\n",
       "       [ 18.,   9.,   0.,   9.,  18.,  27.,  36.,  45.,  54.,  63.,  72.,\n",
       "         81.,  90.,  99., 108., 117., 126., 135., 144., 153., 162.],\n",
       "       [ 27.,  18.,   9.,   0.,   9.,  18.,  27.,  36.,  45.,  54.,  63.,\n",
       "         72.,  81.,  90.,  99., 108., 117., 126., 135., 144., 153.],\n",
       "       [ 36.,  27.,  18.,   9.,   0.,   9.,  18.,  27.,  36.,  45.,  54.,\n",
       "         63.,  72.,  81.,  90.,  99., 108., 117., 126., 135., 144.],\n",
       "       [ 45.,  36.,  27.,  18.,   9.,   0.,   9.,  18.,  27.,  36.,  45.,\n",
       "         54.,  63.,  72.,  81.,  90.,  99., 108., 117., 126., 135.],\n",
       "       [ 54.,  45.,  36.,  27.,  18.,   9.,   0.,   9.,  18.,  27.,  36.,\n",
       "         45.,  54.,  63.,  72.,  81.,  90.,  99., 108., 117., 126.],\n",
       "       [ 63.,  54.,  45.,  36.,  27.,  18.,   9.,   0.,   9.,  18.,  27.,\n",
       "         36.,  45.,  54.,  63.,  72.,  81.,  90.,  99., 108., 117.],\n",
       "       [ 72.,  63.,  54.,  45.,  36.,  27.,  18.,   9.,   0.,   9.,  18.,\n",
       "         27.,  36.,  45.,  54.,  63.,  72.,  81.,  90.,  99., 108.],\n",
       "       [ 81.,  72.,  63.,  54.,  45.,  36.,  27.,  18.,   9.,   0.,   9.,\n",
       "         18.,  27.,  36.,  45.,  54.,  63.,  72.,  81.,  90.,  99.],\n",
       "       [ 90.,  81.,  72.,  63.,  54.,  45.,  36.,  27.,  18.,   9.,   0.,\n",
       "          9.,  18.,  27.,  36.,  45.,  54.,  63.,  72.,  81.,  90.],\n",
       "       [ 99.,  90.,  81.,  72.,  63.,  54.,  45.,  36.,  27.,  18.,   9.,\n",
       "          0.,   9.,  18.,  27.,  36.,  45.,  54.,  63.,  72.,  81.],\n",
       "       [108.,  99.,  90.,  81.,  72.,  63.,  54.,  45.,  36.,  27.,  18.,\n",
       "          9.,   0.,   9.,  18.,  27.,  36.,  45.,  54.,  63.,  72.],\n",
       "       [117., 108.,  99.,  90.,  81.,  72.,  63.,  54.,  45.,  36.,  27.,\n",
       "         18.,   9.,   0.,   9.,  18.,  27.,  36.,  45.,  54.,  63.],\n",
       "       [126., 117., 108.,  99.,  90.,  81.,  72.,  63.,  54.,  45.,  36.,\n",
       "         27.,  18.,   9.,   0.,   9.,  18.,  27.,  36.,  45.,  54.],\n",
       "       [135., 126., 117., 108.,  99.,  90.,  81.,  72.,  63.,  54.,  45.,\n",
       "         36.,  27.,  18.,   9.,   0.,   9.,  18.,  27.,  36.,  45.],\n",
       "       [144., 135., 126., 117., 108.,  99.,  90.,  81.,  72.,  63.,  54.,\n",
       "         45.,  36.,  27.,  18.,   9.,   0.,   9.,  18.,  27.,  36.],\n",
       "       [153., 144., 135., 126., 117., 108.,  99.,  90.,  81.,  72.,  63.,\n",
       "         54.,  45.,  36.,  27.,  18.,   9.,   0.,   9.,  18.,  27.],\n",
       "       [162., 153., 144., 135., 126., 117., 108.,  99.,  90.,  81.,  72.,\n",
       "         63.,  54.,  45.,  36.,  27.,  18.,   9.,   0.,   9.,  18.],\n",
       "       [171., 162., 153., 144., 135., 126., 117., 108.,  99.,  90.,  81.,\n",
       "         72.,  63.,  54.,  45.,  36.,  27.,  18.,   9.,   0.,   9.],\n",
       "       [180., 171., 162., 153., 144., 135., 126., 117., 108.,  99.,  90.,\n",
       "         81.,  72.,  63.,  54.,  45.,  36.,  27.,  18.,   9.,   0.]])"
      ]
     },
     "execution_count": 30,
     "metadata": {},
     "output_type": "execute_result"
    }
   ],
   "source": [
    "dissimilarity(X, X) * 180 / np.pi"
   ]
  },
  {
   "cell_type": "code",
   "execution_count": 31,
   "metadata": {},
   "outputs": [
    {
     "name": "stdout",
     "output_type": "stream",
     "text": [
      "[18.99898847  0.        ] [1. 0.] 2 2 21\n"
     ]
    }
   ],
   "source": [
    "model = PCoA(n_components=2, dissimilarity=dissimilarity, random_state=42, \n",
    "             n_jobs=None, eigen_solver='auto', tol=0, max_iter=None, remove_zero_eig=False, copy_X=True)\n",
    "features = model.fit_transform(X)\n",
    "\n",
    "print(model.explained_variance_, \n",
    "      model.explained_variance_ratio_, \n",
    "      model.n_components_, \n",
    "      model.n_features_, \n",
    "      model.n_samples_)\n"
   ]
  },
  {
   "cell_type": "code",
   "execution_count": 32,
   "metadata": {},
   "outputs": [
    {
     "data": {
      "text/plain": [
       "<AxesSubplot:xlabel='p0', ylabel='p1'>"
      ]
     },
     "execution_count": 32,
     "metadata": {},
     "output_type": "execute_result"
    },
    {
     "data": {
      "image/png": "[encoded data removed]",
      "text/plain": [
       "<Figure size 432x288 with 1 Axes>"
      ]
     },
     "metadata": {},
     "output_type": "display_data"
    }
   ],
   "source": [
    "import seaborn as sns\n",
    "plotted = pd.DataFrame(features, columns=['p'+str(i) for i in range(model.n_features_)])\n",
    "# plotted['hue'] = df['hue']\n",
    "sns.set(style='dark', palette='bright')\n",
    "sns.scatterplot(data=plotted, x='p0', y='p1')"
   ]
  },
  {
   "cell_type": "code",
   "execution_count": 33,
   "metadata": {},
   "outputs": [],
   "source": [
    "pos_var = model.eigenvalues_[model.eigenvalues_ > 0]\n",
    "neg_var = model.eigenvalues_[model.eigenvalues_ < 0]"
   ]
  },
  {
   "cell_type": "code",
   "execution_count": 34,
   "metadata": {},
   "outputs": [
    {
     "data": {
      "text/plain": [
       "array([18.99898847])"
      ]
     },
     "execution_count": 34,
     "metadata": {},
     "output_type": "execute_result"
    }
   ],
   "source": [
    "pos_var"
   ]
  },
  {
   "cell_type": "code",
   "execution_count": 35,
   "metadata": {},
   "outputs": [
    {
     "data": {
      "text/plain": [
       "array([], dtype=float64)"
      ]
     },
     "execution_count": 35,
     "metadata": {},
     "output_type": "execute_result"
    }
   ],
   "source": [
    "neg_var = neg_var[::-1]\n",
    "neg_var"
   ]
  },
  {
   "cell_type": "code",
   "execution_count": 36,
   "metadata": {},
   "outputs": [
    {
     "data": {
      "text/plain": [
       "array([1.])"
      ]
     },
     "execution_count": 36,
     "metadata": {},
     "output_type": "execute_result"
    }
   ],
   "source": [
    "p = pos_var / np.sum(pos_var)\n",
    "p"
   ]
  },
  {
   "cell_type": "code",
   "execution_count": 37,
   "metadata": {},
   "outputs": [
    {
     "data": {
      "text/plain": [
       "[<matplotlib.lines.Line2D at 0x1cf8309b130>]"
      ]
     },
     "execution_count": 37,
     "metadata": {},
     "output_type": "execute_result"
    },
    {
     "data": {
      "image/png": "[encoded data removed]",
      "text/plain": [
       "<Figure size 432x288 with 1 Axes>"
      ]
     },
     "metadata": {},
     "output_type": "display_data"
    }
   ],
   "source": [
    "plt.plot(p, marker='o')"
   ]
  },
  {
   "cell_type": "code",
   "execution_count": 38,
   "metadata": {},
   "outputs": [
    {
     "data": {
      "text/plain": [
       "array([], dtype=float64)"
      ]
     },
     "execution_count": 38,
     "metadata": {},
     "output_type": "execute_result"
    }
   ],
   "source": [
    "n = neg_var / np.sum(neg_var)\n",
    "n"
   ]
  },
  {
   "cell_type": "code",
   "execution_count": 39,
   "metadata": {},
   "outputs": [
    {
     "data": {
      "text/plain": [
       "[<matplotlib.lines.Line2D at 0x1cf830e9220>]"
      ]
     },
     "execution_count": 39,
     "metadata": {},
     "output_type": "execute_result"
    },
    {
     "data": {
      "image/png": "[encoded data removed]",
      "text/plain": [
       "<Figure size 432x288 with 1 Axes>"
      ]
     },
     "metadata": {},
     "output_type": "display_data"
    }
   ],
   "source": [
    "plt.plot(n, marker='o')"
   ]
  },
  {
   "cell_type": "code",
   "execution_count": 40,
   "metadata": {},
   "outputs": [
    {
     "data": {
      "text/plain": [
       "20"
      ]
     },
     "execution_count": 40,
     "metadata": {},
     "output_type": "execute_result"
    }
   ],
   "source": [
    "len(model.eigenvalues_[model.eigenvalues_ == 0])"
   ]
  },
  {
   "cell_type": "code",
   "execution_count": null,
   "metadata": {},
   "outputs": [],
   "source": []
  },
  {
   "cell_type": "markdown",
   "metadata": {},
   "source": [
    "# Usecase 2-2:"
   ]
  },
  {
   "cell_type": "code",
   "execution_count": 41,
   "metadata": {},
   "outputs": [],
   "source": [
    "T = np.linspace(0, 2 * np.pi, 21)\n",
    "X = np.array([np.cos(T), np.sin(T)])"
   ]
  },
  {
   "cell_type": "code",
   "execution_count": 42,
   "metadata": {},
   "outputs": [],
   "source": [
    "X = X.T"
   ]
  },
  {
   "cell_type": "code",
   "execution_count": 43,
   "metadata": {},
   "outputs": [
    {
     "data": {
      "text/plain": [
       "<matplotlib.collections.PathCollection at 0x1cf83134430>"
      ]
     },
     "execution_count": 43,
     "metadata": {},
     "output_type": "execute_result"
    },
    {
     "data": {
      "image/png": "[encoded data removed]",
      "text/plain": [
       "<Figure size 432x288 with 1 Axes>"
      ]
     },
     "metadata": {},
     "output_type": "display_data"
    }
   ],
   "source": [
    "plt.scatter(*X.T)"
   ]
  },
  {
   "cell_type": "code",
   "execution_count": 44,
   "metadata": {},
   "outputs": [],
   "source": [
    "def distance(x, y):\n",
    "    def theta(x):    \n",
    "        (x_cos, x_sin) = (np.arccos(x[0]), np.arcsin(x[1]))\n",
    "        if x_sin >= 0:\n",
    "            t = x_cos\n",
    "        else:\n",
    "            t = 2*np.pi - x_cos\n",
    "        return t\n",
    "    \n",
    "    theta1 = theta(x)\n",
    "    theta2 = theta(y)\n",
    "    result = max([theta1, theta2]) - min([theta1, theta2])\n",
    "    if result > np.pi:\n",
    "        result = np.pi * 2 - result\n",
    "    return result"
   ]
  },
  {
   "cell_type": "code",
   "execution_count": 45,
   "metadata": {},
   "outputs": [],
   "source": [
    "dissimilarity = PCoA.pairwise_metric_from(distance)"
   ]
  },
  {
   "cell_type": "code",
   "execution_count": 46,
   "metadata": {},
   "outputs": [
    {
     "data": {
      "text/plain": [
       "array([[  0.,  18.,  36.,  54.,  72.,  90., 108., 126., 144., 162., 180.,\n",
       "        162., 144., 126., 108.,  90.,  72.,  54.,  36.,  18.,   0.],\n",
       "       [ 18.,   0.,  18.,  36.,  54.,  72.,  90., 108., 126., 144., 162.,\n",
       "        180., 162., 144., 126., 108.,  90.,  72.,  54.,  36.,  18.],\n",
       "       [ 36.,  18.,   0.,  18.,  36.,  54.,  72.,  90., 108., 126., 144.,\n",
       "        162., 180., 162., 144., 126., 108.,  90.,  72.,  54.,  36.],\n",
       "       [ 54.,  36.,  18.,   0.,  18.,  36.,  54.,  72.,  90., 108., 126.,\n",
       "        144., 162., 180., 162., 144., 126., 108.,  90.,  72.,  54.],\n",
       "       [ 72.,  54.,  36.,  18.,   0.,  18.,  36.,  54.,  72.,  90., 108.,\n",
       "        126., 144., 162., 180., 162., 144., 126., 108.,  90.,  72.],\n",
       "       [ 90.,  72.,  54.,  36.,  18.,   0.,  18.,  36.,  54.,  72.,  90.,\n",
       "        108., 126., 144., 162., 180., 162., 144., 126., 108.,  90.],\n",
       "       [108.,  90.,  72.,  54.,  36.,  18.,   0.,  18.,  36.,  54.,  72.,\n",
       "         90., 108., 126., 144., 162., 180., 162., 144., 126., 108.],\n",
       "       [126., 108.,  90.,  72.,  54.,  36.,  18.,   0.,  18.,  36.,  54.,\n",
       "         72.,  90., 108., 126., 144., 162., 180., 162., 144., 126.],\n",
       "       [144., 126., 108.,  90.,  72.,  54.,  36.,  18.,   0.,  18.,  36.,\n",
       "         54.,  72.,  90., 108., 126., 144., 162., 180., 162., 144.],\n",
       "       [162., 144., 126., 108.,  90.,  72.,  54.,  36.,  18.,   0.,  18.,\n",
       "         36.,  54.,  72.,  90., 108., 126., 144., 162., 180., 162.],\n",
       "       [180., 162., 144., 126., 108.,  90.,  72.,  54.,  36.,  18.,   0.,\n",
       "         18.,  36.,  54.,  72.,  90., 108., 126., 144., 162., 180.],\n",
       "       [162., 180., 162., 144., 126., 108.,  90.,  72.,  54.,  36.,  18.,\n",
       "          0.,  18.,  36.,  54.,  72.,  90., 108., 126., 144., 162.],\n",
       "       [144., 162., 180., 162., 144., 126., 108.,  90.,  72.,  54.,  36.,\n",
       "         18.,   0.,  18.,  36.,  54.,  72.,  90., 108., 126., 144.],\n",
       "       [126., 144., 162., 180., 162., 144., 126., 108.,  90.,  72.,  54.,\n",
       "         36.,  18.,   0.,  18.,  36.,  54.,  72.,  90., 108., 126.],\n",
       "       [108., 126., 144., 162., 180., 162., 144., 126., 108.,  90.,  72.,\n",
       "         54.,  36.,  18.,   0.,  18.,  36.,  54.,  72.,  90., 108.],\n",
       "       [ 90., 108., 126., 144., 162., 180., 162., 144., 126., 108.,  90.,\n",
       "         72.,  54.,  36.,  18.,   0.,  18.,  36.,  54.,  72.,  90.],\n",
       "       [ 72.,  90., 108., 126., 144., 162., 180., 162., 144., 126., 108.,\n",
       "         90.,  72.,  54.,  36.,  18.,   0.,  18.,  36.,  54.,  72.],\n",
       "       [ 54.,  72.,  90., 108., 126., 144., 162., 180., 162., 144., 126.,\n",
       "        108.,  90.,  72.,  54.,  36.,  18.,   0.,  18.,  36.,  54.],\n",
       "       [ 36.,  54.,  72.,  90., 108., 126., 144., 162., 180., 162., 144.,\n",
       "        126., 108.,  90.,  72.,  54.,  36.,  18.,   0.,  18.,  36.],\n",
       "       [ 18.,  36.,  54.,  72.,  90., 108., 126., 144., 162., 180., 162.,\n",
       "        144., 126., 108.,  90.,  72.,  54.,  36.,  18.,   0.,  18.],\n",
       "       [  0.,  18.,  36.,  54.,  72.,  90., 108., 126., 144., 162., 180.,\n",
       "        162., 144., 126., 108.,  90.,  72.,  54.,  36.,  18.,   0.]])"
      ]
     },
     "execution_count": 46,
     "metadata": {},
     "output_type": "execute_result"
    }
   ],
   "source": [
    "dissimilarity(X, X) * 180 / np.pi"
   ]
  },
  {
   "cell_type": "code",
   "execution_count": 47,
   "metadata": {},
   "outputs": [
    {
     "name": "stdout",
     "output_type": "stream",
     "text": [
      "[22.06811408 20.16530834] [0.52252725 0.47747275] 2 2 21\n"
     ]
    }
   ],
   "source": [
    "model = PCoA(n_components=2, dissimilarity=dissimilarity, random_state=42, \n",
    "             n_jobs=None, eigen_solver='auto', tol=0, max_iter=None, remove_zero_eig=False, copy_X=True)\n",
    "features = model.fit_transform(X)\n",
    "\n",
    "print(model.explained_variance_, \n",
    "      model.explained_variance_ratio_, \n",
    "      model.n_components_, \n",
    "      model.n_features_, \n",
    "      model.n_samples_)\n"
   ]
  },
  {
   "cell_type": "code",
   "execution_count": 48,
   "metadata": {},
   "outputs": [
    {
     "data": {
      "text/plain": [
       "<AxesSubplot:xlabel='p0', ylabel='p1'>"
      ]
     },
     "execution_count": 48,
     "metadata": {},
     "output_type": "execute_result"
    },
    {
     "data": {
      "image/png": "[encoded data removed]",
      "text/plain": [
       "<Figure size 432x288 with 1 Axes>"
      ]
     },
     "metadata": {},
     "output_type": "display_data"
    }
   ],
   "source": [
    "import seaborn as sns\n",
    "plotted = pd.DataFrame(features, columns=['p'+str(i) for i in range(model.n_features_)])\n",
    "# plotted['hue'] = df['hue']\n",
    "sns.set(style='dark', palette='bright')\n",
    "sns.scatterplot(data=plotted, x='p0', y='p1')"
   ]
  },
  {
   "cell_type": "code",
   "execution_count": 49,
   "metadata": {},
   "outputs": [],
   "source": [
    "pos_var = model.eigenvalues_[model.eigenvalues_ > 0]\n",
    "neg_var = model.eigenvalues_[model.eigenvalues_ < 0]"
   ]
  },
  {
   "cell_type": "code",
   "execution_count": 50,
   "metadata": {},
   "outputs": [
    {
     "data": {
      "text/plain": [
       "array([22.06811408, 20.16530834,  2.59421154,  2.39428707,  1.06093286,\n",
       "        0.98696044,  0.66176566,  0.62159567,  0.52653307,  0.50585948])"
      ]
     },
     "execution_count": 50,
     "metadata": {},
     "output_type": "execute_result"
    }
   ],
   "source": [
    "pos_var"
   ]
  },
  {
   "cell_type": "code",
   "execution_count": 51,
   "metadata": {},
   "outputs": [
    {
     "data": {
      "text/plain": [
       "array([-5.62669608, -5.16779196, -1.54128907, -1.42834257, -0.80710002,\n",
       "       -0.75397069, -0.57598435, -0.54557831, -0.50120354])"
      ]
     },
     "execution_count": 51,
     "metadata": {},
     "output_type": "execute_result"
    }
   ],
   "source": [
    "neg_var = neg_var[::-1]\n",
    "neg_var"
   ]
  },
  {
   "cell_type": "code",
   "execution_count": 52,
   "metadata": {},
   "outputs": [
    {
     "data": {
      "text/plain": [
       "array([0.42779628, 0.39090988, 0.05028948, 0.04641389, 0.02056647,\n",
       "       0.01913249, 0.0128285 , 0.0120498 , 0.01020698, 0.00980622])"
      ]
     },
     "execution_count": 52,
     "metadata": {},
     "output_type": "execute_result"
    }
   ],
   "source": [
    "p = pos_var / np.sum(pos_var)\n",
    "p"
   ]
  },
  {
   "cell_type": "code",
   "execution_count": 53,
   "metadata": {},
   "outputs": [
    {
     "data": {
      "text/plain": [
       "[<matplotlib.lines.Line2D at 0x1cf831e59a0>]"
      ]
     },
     "execution_count": 53,
     "metadata": {},
     "output_type": "execute_result"
    },
    {
     "data": {
      "image/png": "[encoded data removed]",
      "text/plain": [
       "<Figure size 432x288 with 1 Axes>"
      ]
     },
     "metadata": {},
     "output_type": "display_data"
    }
   ],
   "source": [
    "plt.plot(p, marker='o')"
   ]
  },
  {
   "cell_type": "code",
   "execution_count": 54,
   "metadata": {},
   "outputs": [
    {
     "data": {
      "text/plain": [
       "array([0.3319985 , 0.30492124, 0.09094247, 0.08427816, 0.04762226,\n",
       "       0.04448741, 0.03398547, 0.03219139, 0.0295731 ])"
      ]
     },
     "execution_count": 54,
     "metadata": {},
     "output_type": "execute_result"
    }
   ],
   "source": [
    "n = neg_var / np.sum(neg_var)\n",
    "n"
   ]
  },
  {
   "cell_type": "code",
   "execution_count": 55,
   "metadata": {},
   "outputs": [
    {
     "data": {
      "text/plain": [
       "[<matplotlib.lines.Line2D at 0x1cf83231c70>]"
      ]
     },
     "execution_count": 55,
     "metadata": {},
     "output_type": "execute_result"
    },
    {
     "data": {
      "image/png": "[encoded data removed]",
      "text/plain": [
       "<Figure size 432x288 with 1 Axes>"
      ]
     },
     "metadata": {},
     "output_type": "display_data"
    }
   ],
   "source": [
    "plt.plot(n, marker='o')"
   ]
  },
  {
   "cell_type": "code",
   "execution_count": 56,
   "metadata": {},
   "outputs": [
    {
     "data": {
      "text/plain": [
       "2"
      ]
     },
     "execution_count": 56,
     "metadata": {},
     "output_type": "execute_result"
    }
   ],
   "source": [
    "len(model.eigenvalues_[model.eigenvalues_ == 0])"
   ]
  },
  {
   "cell_type": "code",
   "execution_count": null,
   "metadata": {},
   "outputs": [],
   "source": []
  }
 ],
 "metadata": {
  "kernelspec": {
   "display_name": "Python 3",
   "language": "python",
   "name": "python3"
  },
  "language_info": {
   "codemirror_mode": {
    "name": "ipython",
    "version": 3
   },
   "file_extension": ".py",
   "mimetype": "text/x-python",
   "name": "python",
   "nbconvert_exporter": "python",
   "pygments_lexer": "ipython3",
   "version": "3.8.6"
  }
 },
 "nbformat": 4,
 "nbformat_minor": 4
}
